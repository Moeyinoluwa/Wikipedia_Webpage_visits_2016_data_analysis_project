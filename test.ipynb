{
 "cells": [
  {
   "cell_type": "code",
   "execution_count": 1,
   "metadata": {},
   "outputs": [
    {
     "name": "stdout",
     "output_type": "stream",
     "text": [
      "Requirement already satisfied: xlrd in c:\\users\\user\\ds_softwares\\anaconda3\\lib\\site-packages (2.0.1)\n",
      "Note: you may need to restart the kernel to use updated packages.\n"
     ]
    }
   ],
   "source": [
    "pip install xlrd"
   ]
  },
  {
   "cell_type": "code",
   "execution_count": 2,
   "metadata": {},
   "outputs": [],
   "source": [
    "import pandas as pd"
   ]
  },
  {
   "cell_type": "code",
   "execution_count": 3,
   "metadata": {},
   "outputs": [],
   "source": [
    "import sqlite3"
   ]
  },
  {
   "cell_type": "code",
   "execution_count": 4,
   "metadata": {},
   "outputs": [],
   "source": [
    "wikipedia = pd.read_excel('wikipedia_dataset_flat.xlsx')"
   ]
  },
  {
   "cell_type": "code",
   "execution_count": 4,
   "metadata": {},
   "outputs": [
    {
     "data": {
      "text/html": [
       "<div>\n",
       "<style scoped>\n",
       "    .dataframe tbody tr th:only-of-type {\n",
       "        vertical-align: middle;\n",
       "    }\n",
       "\n",
       "    .dataframe tbody tr th {\n",
       "        vertical-align: top;\n",
       "    }\n",
       "\n",
       "    .dataframe thead th {\n",
       "        text-align: right;\n",
       "    }\n",
       "</style>\n",
       "<table border=\"1\" class=\"dataframe\">\n",
       "  <thead>\n",
       "    <tr style=\"text-align: right;\">\n",
       "      <th></th>\n",
       "      <th>serial_no</th>\n",
       "      <th>date</th>\n",
       "      <th>day_of_the_week</th>\n",
       "      <th>visits</th>\n",
       "      <th>page</th>\n",
       "      <th>topic</th>\n",
       "      <th>language_code</th>\n",
       "      <th>language</th>\n",
       "      <th>domain</th>\n",
       "      <th>device_type</th>\n",
       "      <th>agents_type</th>\n",
       "    </tr>\n",
       "  </thead>\n",
       "  <tbody>\n",
       "    <tr>\n",
       "      <th>0</th>\n",
       "      <td>0</td>\n",
       "      <td>2016-01-01</td>\n",
       "      <td>Friday</td>\n",
       "      <td>7089.0</td>\n",
       "      <td>.xxx_en.wikipedia.org_all-access_all-agents</td>\n",
       "      <td>.xxx_en</td>\n",
       "      <td>_en</td>\n",
       "      <td>English</td>\n",
       "      <td>.wikipedia.org</td>\n",
       "      <td>all-access</td>\n",
       "      <td>all-agents</td>\n",
       "    </tr>\n",
       "    <tr>\n",
       "      <th>1</th>\n",
       "      <td>1</td>\n",
       "      <td>2016-01-01</td>\n",
       "      <td>Friday</td>\n",
       "      <td>6182.0</td>\n",
       "      <td>.xxx_en.wikipedia.org_mobile-web_all-agents</td>\n",
       "      <td>.xxx_en</td>\n",
       "      <td>_en</td>\n",
       "      <td>English</td>\n",
       "      <td>.wikipedia.org</td>\n",
       "      <td>mobile-web</td>\n",
       "      <td>all-agents</td>\n",
       "    </tr>\n",
       "    <tr>\n",
       "      <th>2</th>\n",
       "      <td>2</td>\n",
       "      <td>2016-01-01</td>\n",
       "      <td>Friday</td>\n",
       "      <td>20.0</td>\n",
       "      <td>1._Juli_de.wikipedia.org_desktop_all-agents</td>\n",
       "      <td>1._Juli_de</td>\n",
       "      <td>_de</td>\n",
       "      <td>German</td>\n",
       "      <td>.wikipedia.org</td>\n",
       "      <td>desktop</td>\n",
       "      <td>all-agents</td>\n",
       "    </tr>\n",
       "    <tr>\n",
       "      <th>3</th>\n",
       "      <td>3</td>\n",
       "      <td>2016-01-01</td>\n",
       "      <td>Friday</td>\n",
       "      <td>5363.0</td>\n",
       "      <td>2014_FIFA_World_Cup_en.wikipedia.org_all-acces...</td>\n",
       "      <td>2014_FIFA_World_Cup_en</td>\n",
       "      <td>_en</td>\n",
       "      <td>English</td>\n",
       "      <td>.wikipedia.org</td>\n",
       "      <td>all-access</td>\n",
       "      <td>all-agents</td>\n",
       "    </tr>\n",
       "    <tr>\n",
       "      <th>4</th>\n",
       "      <td>4</td>\n",
       "      <td>2016-01-01</td>\n",
       "      <td>Friday</td>\n",
       "      <td>3186.0</td>\n",
       "      <td>2014_FIFA_World_Cup_en.wikipedia.org_desktop_a...</td>\n",
       "      <td>2014_FIFA_World_Cup_en</td>\n",
       "      <td>_en</td>\n",
       "      <td>English</td>\n",
       "      <td>.wikipedia.org</td>\n",
       "      <td>desktop</td>\n",
       "      <td>all-agents</td>\n",
       "    </tr>\n",
       "  </tbody>\n",
       "</table>\n",
       "</div>"
      ],
      "text/plain": [
       "   serial_no       date day_of_the_week  visits  \\\n",
       "0          0 2016-01-01          Friday  7089.0   \n",
       "1          1 2016-01-01          Friday  6182.0   \n",
       "2          2 2016-01-01          Friday    20.0   \n",
       "3          3 2016-01-01          Friday  5363.0   \n",
       "4          4 2016-01-01          Friday  3186.0   \n",
       "\n",
       "                                                page                   topic  \\\n",
       "0        .xxx_en.wikipedia.org_all-access_all-agents                 .xxx_en   \n",
       "1        .xxx_en.wikipedia.org_mobile-web_all-agents                 .xxx_en   \n",
       "2        1._Juli_de.wikipedia.org_desktop_all-agents              1._Juli_de   \n",
       "3  2014_FIFA_World_Cup_en.wikipedia.org_all-acces...  2014_FIFA_World_Cup_en   \n",
       "4  2014_FIFA_World_Cup_en.wikipedia.org_desktop_a...  2014_FIFA_World_Cup_en   \n",
       "\n",
       "  language_code language          domain device_type agents_type  \n",
       "0           _en  English  .wikipedia.org  all-access  all-agents  \n",
       "1           _en  English  .wikipedia.org  mobile-web  all-agents  \n",
       "2           _de   German  .wikipedia.org     desktop  all-agents  \n",
       "3           _en  English  .wikipedia.org  all-access  all-agents  \n",
       "4           _en  English  .wikipedia.org     desktop  all-agents  "
      ]
     },
     "execution_count": 4,
     "metadata": {},
     "output_type": "execute_result"
    }
   ],
   "source": [
    "wikipedia.head()"
   ]
  },
  {
   "cell_type": "code",
   "execution_count": 9,
   "metadata": {},
   "outputs": [],
   "source": [
    "db_conn = sqlite3.connect(\"wiki.db\")"
   ]
  },
  {
   "cell_type": "code",
   "execution_count": 10,
   "metadata": {},
   "outputs": [],
   "source": [
    "c = db_conn.cursor()"
   ]
  },
  {
   "cell_type": "code",
   "execution_count": 11,
   "metadata": {},
   "outputs": [
    {
     "data": {
      "text/plain": [
       "<sqlite3.Cursor at 0x17425d88730>"
      ]
     },
     "execution_count": 11,
     "metadata": {},
     "output_type": "execute_result"
    }
   ],
   "source": [
    "c.execute(\n",
    "    \"\"\"\n",
    "     CREATE TABLE wikipedia(\n",
    "         serial_no INTEGER, date DATETIME, day_of_the_week VARCHAR,\n",
    "         visits INTEGER, page VARCHAR, topic VARCHAR, language_code VARCHAR, language VARCHAR,\n",
    "         domain VARCHAR, device_type VARCHAR, agents_type VARCHAR\n",
    "         );\n",
    "    \"\"\"\n",
    ")"
   ]
  },
  {
   "cell_type": "code",
   "execution_count": 12,
   "metadata": {},
   "outputs": [],
   "source": [
    "wikipedia.to_sql('wikipedia', db_conn, if_exists='append', index=False)"
   ]
  },
  {
   "cell_type": "code",
   "execution_count": 13,
   "metadata": {},
   "outputs": [
    {
     "data": {
      "text/html": [
       "<div>\n",
       "<style scoped>\n",
       "    .dataframe tbody tr th:only-of-type {\n",
       "        vertical-align: middle;\n",
       "    }\n",
       "\n",
       "    .dataframe tbody tr th {\n",
       "        vertical-align: top;\n",
       "    }\n",
       "\n",
       "    .dataframe thead th {\n",
       "        text-align: right;\n",
       "    }\n",
       "</style>\n",
       "<table border=\"1\" class=\"dataframe\">\n",
       "  <thead>\n",
       "    <tr style=\"text-align: right;\">\n",
       "      <th></th>\n",
       "      <th>serial_no</th>\n",
       "      <th>date</th>\n",
       "      <th>day_of_the_week</th>\n",
       "      <th>visits</th>\n",
       "      <th>page</th>\n",
       "      <th>topic</th>\n",
       "      <th>language_code</th>\n",
       "      <th>language</th>\n",
       "      <th>domain</th>\n",
       "      <th>device_type</th>\n",
       "      <th>agents_type</th>\n",
       "    </tr>\n",
       "  </thead>\n",
       "  <tbody>\n",
       "    <tr>\n",
       "      <th>0</th>\n",
       "      <td>0</td>\n",
       "      <td>2016-01-01 00:00:00</td>\n",
       "      <td>Friday</td>\n",
       "      <td>7089</td>\n",
       "      <td>.xxx_en.wikipedia.org_all-access_all-agents</td>\n",
       "      <td>.xxx_en</td>\n",
       "      <td>_en</td>\n",
       "      <td>English</td>\n",
       "      <td>.wikipedia.org</td>\n",
       "      <td>all-access</td>\n",
       "      <td>all-agents</td>\n",
       "    </tr>\n",
       "    <tr>\n",
       "      <th>1</th>\n",
       "      <td>1</td>\n",
       "      <td>2016-01-01 00:00:00</td>\n",
       "      <td>Friday</td>\n",
       "      <td>6182</td>\n",
       "      <td>.xxx_en.wikipedia.org_mobile-web_all-agents</td>\n",
       "      <td>.xxx_en</td>\n",
       "      <td>_en</td>\n",
       "      <td>English</td>\n",
       "      <td>.wikipedia.org</td>\n",
       "      <td>mobile-web</td>\n",
       "      <td>all-agents</td>\n",
       "    </tr>\n",
       "    <tr>\n",
       "      <th>2</th>\n",
       "      <td>2</td>\n",
       "      <td>2016-01-01 00:00:00</td>\n",
       "      <td>Friday</td>\n",
       "      <td>20</td>\n",
       "      <td>1._Juli_de.wikipedia.org_desktop_all-agents</td>\n",
       "      <td>1._Juli_de</td>\n",
       "      <td>_de</td>\n",
       "      <td>German</td>\n",
       "      <td>.wikipedia.org</td>\n",
       "      <td>desktop</td>\n",
       "      <td>all-agents</td>\n",
       "    </tr>\n",
       "    <tr>\n",
       "      <th>3</th>\n",
       "      <td>3</td>\n",
       "      <td>2016-01-01 00:00:00</td>\n",
       "      <td>Friday</td>\n",
       "      <td>5363</td>\n",
       "      <td>2014_FIFA_World_Cup_en.wikipedia.org_all-acces...</td>\n",
       "      <td>2014_FIFA_World_Cup_en</td>\n",
       "      <td>_en</td>\n",
       "      <td>English</td>\n",
       "      <td>.wikipedia.org</td>\n",
       "      <td>all-access</td>\n",
       "      <td>all-agents</td>\n",
       "    </tr>\n",
       "    <tr>\n",
       "      <th>4</th>\n",
       "      <td>4</td>\n",
       "      <td>2016-01-01 00:00:00</td>\n",
       "      <td>Friday</td>\n",
       "      <td>3186</td>\n",
       "      <td>2014_FIFA_World_Cup_en.wikipedia.org_desktop_a...</td>\n",
       "      <td>2014_FIFA_World_Cup_en</td>\n",
       "      <td>_en</td>\n",
       "      <td>English</td>\n",
       "      <td>.wikipedia.org</td>\n",
       "      <td>desktop</td>\n",
       "      <td>all-agents</td>\n",
       "    </tr>\n",
       "  </tbody>\n",
       "</table>\n",
       "</div>"
      ],
      "text/plain": [
       "   serial_no                 date day_of_the_week  visits  \\\n",
       "0          0  2016-01-01 00:00:00          Friday    7089   \n",
       "1          1  2016-01-01 00:00:00          Friday    6182   \n",
       "2          2  2016-01-01 00:00:00          Friday      20   \n",
       "3          3  2016-01-01 00:00:00          Friday    5363   \n",
       "4          4  2016-01-01 00:00:00          Friday    3186   \n",
       "\n",
       "                                                page                   topic  \\\n",
       "0        .xxx_en.wikipedia.org_all-access_all-agents                 .xxx_en   \n",
       "1        .xxx_en.wikipedia.org_mobile-web_all-agents                 .xxx_en   \n",
       "2        1._Juli_de.wikipedia.org_desktop_all-agents              1._Juli_de   \n",
       "3  2014_FIFA_World_Cup_en.wikipedia.org_all-acces...  2014_FIFA_World_Cup_en   \n",
       "4  2014_FIFA_World_Cup_en.wikipedia.org_desktop_a...  2014_FIFA_World_Cup_en   \n",
       "\n",
       "  language_code language          domain device_type agents_type  \n",
       "0           _en  English  .wikipedia.org  all-access  all-agents  \n",
       "1           _en  English  .wikipedia.org  mobile-web  all-agents  \n",
       "2           _de   German  .wikipedia.org     desktop  all-agents  \n",
       "3           _en  English  .wikipedia.org  all-access  all-agents  \n",
       "4           _en  English  .wikipedia.org     desktop  all-agents  "
      ]
     },
     "execution_count": 13,
     "metadata": {},
     "output_type": "execute_result"
    }
   ],
   "source": [
    "pd.read_sql(\"SELECT * FROM wikipedia LIMIT 5\", db_conn)"
   ]
  },
  {
   "cell_type": "code",
   "execution_count": null,
   "metadata": {},
   "outputs": [],
   "source": []
  }
 ],
 "metadata": {
  "interpreter": {
   "hash": "acb37e692531948f10ee124e4bc6613343280ff8a3a9ba738c0a64fa5ee8d2e3"
  },
  "kernelspec": {
   "display_name": "Python 3.9.7 ('base')",
   "language": "python",
   "name": "python3"
  },
  "language_info": {
   "codemirror_mode": {
    "name": "ipython",
    "version": 3
   },
   "file_extension": ".py",
   "mimetype": "text/x-python",
   "name": "python",
   "nbconvert_exporter": "python",
   "pygments_lexer": "ipython3",
   "version": "3.9.7"
  },
  "orig_nbformat": 4
 },
 "nbformat": 4,
 "nbformat_minor": 2
}
